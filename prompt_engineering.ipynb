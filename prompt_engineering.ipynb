{
 "cells": [
  {
   "cell_type": "markdown",
   "metadata": {},
   "source": []
  },
  {
   "cell_type": "code",
   "execution_count": 1,
   "metadata": {},
   "outputs": [],
   "source": [
    "import os\n",
    "os.environ[\"OPENAI_API_KEY\"] = os.getenv(\"OPENAI_API_KEY\")"
   ]
  },
  {
   "cell_type": "code",
   "execution_count": 2,
   "metadata": {},
   "outputs": [],
   "source": [
    "from langchain import PromptTemplate\n",
    "\n",
    "sample_template = '''I want you to act as a Senior Tax Analyst in an organization.\n",
    "Explain the rules of {Country}.'''\n",
    "\n"
   ]
  },
  {
   "cell_type": "code",
   "execution_count": 3,
   "metadata": {},
   "outputs": [],
   "source": [
    "basic_prompt = PromptTemplate(\n",
    "    input_variables=[\"Country\"],\n",
    "    template = sample_template\n",
    ")"
   ]
  },
  {
   "cell_type": "code",
   "execution_count": 4,
   "metadata": {},
   "outputs": [
    {
     "data": {
      "text/plain": [
       "'I want you to act as a Senior Tax Analyst in an organization.\\nExplain the rules of India.'"
      ]
     },
     "execution_count": 4,
     "metadata": {},
     "output_type": "execute_result"
    }
   ],
   "source": [
    "basic_prompt.format(Country = \"India\")"
   ]
  },
  {
   "cell_type": "code",
   "execution_count": 5,
   "metadata": {},
   "outputs": [
    {
     "name": "stderr",
     "output_type": "stream",
     "text": [
      "c:\\Users\\user\\PycharmProjects\\Prompt Engineering_With_langchain\\prompt_env\\Lib\\site-packages\\langchain_core\\_api\\deprecation.py:119: LangChainDeprecationWarning: The class `OpenAI` was deprecated in LangChain 0.0.10 and will be removed in 0.3.0. An updated version of the class exists in the langchain-openai package and should be used instead. To use it run `pip install -U langchain-openai` and import as `from langchain_openai import OpenAI`.\n",
      "  warn_deprecated(\n",
      "c:\\Users\\user\\PycharmProjects\\Prompt Engineering_With_langchain\\prompt_env\\Lib\\site-packages\\langchain_core\\_api\\deprecation.py:119: LangChainDeprecationWarning: The class `LLMChain` was deprecated in LangChain 0.1.17 and will be removed in 0.3.0. Use RunnableSequence, e.g., `prompt | llm` instead.\n",
      "  warn_deprecated(\n"
     ]
    }
   ],
   "source": [
    "from langchain.llms import OpenAI\n",
    "from langchain.chains import LLMChain\n",
    "\n",
    "llm = OpenAI()\n",
    "chain1 = LLMChain(llm=llm, prompt = basic_prompt)"
   ]
  },
  {
   "cell_type": "code",
   "execution_count": 6,
   "metadata": {},
   "outputs": [
    {
     "name": "stderr",
     "output_type": "stream",
     "text": [
      "c:\\Users\\user\\PycharmProjects\\Prompt Engineering_With_langchain\\prompt_env\\Lib\\site-packages\\langchain_core\\_api\\deprecation.py:119: LangChainDeprecationWarning: The method `Chain.run` was deprecated in langchain 0.1.0 and will be removed in 0.3.0. Use invoke instead.\n",
      "  warn_deprecated(\n"
     ]
    },
    {
     "data": {
      "text/plain": [
       "'\\n\\nAs a Senior Tax Analyst, it is my responsibility to ensure that the organization complies with all the tax laws and regulations set by the Indian government. In India, the primary authority for taxation is the Central Board of Direct Taxes (CBDT) under the Ministry of Finance. The CBDT is responsible for formulating policies and managing the direct taxes, which include income tax, corporate tax, and wealth tax.\\n\\nHere are some of the key rules and regulations that organizations need to follow in India:\\n\\n1. Income Tax: All individuals and companies are required to pay income tax on their earnings, which is calculated based on their income slab. The tax rates in India range from 5% to 30%, depending on the income level. Organizations are also required to deduct tax at source (TDS) from the salaries and payments made to their employees and vendors, respectively.\\n\\n2. Goods and Services Tax (GST): GST is a unified indirect tax system introduced in India in 2017. It replaced multiple indirect taxes such as excise duty, service tax, and value-added tax (VAT). Under GST, goods and services are taxed at multiple rates, including 0%, 5%, 12%, 18%, and 28%. All registered businesses with an annual'"
      ]
     },
     "execution_count": 6,
     "metadata": {},
     "output_type": "execute_result"
    }
   ],
   "source": [
    "chain1.run('India')"
   ]
  },
  {
   "cell_type": "code",
   "execution_count": 7,
   "metadata": {},
   "outputs": [
    {
     "data": {
      "text/plain": [
       "' Tax Code\\nAs a Senior Tax Analyst, it is my responsibility to understand and interpret the complex rules of the US Tax Code for my organization. The US Tax Code, also known as the Internal Revenue Code (IRC), is a comprehensive set of laws and regulations that govern the federal taxation system in the United States. It is constantly evolving and is enforced by the Internal Revenue Service (IRS).\\n\\nThe US Tax Code is divided into four main sections: income taxes, estate and gift taxes, payroll taxes, and excise taxes. Each section contains numerous subchapters and provisions that outline specific rules and regulations for different types of taxes.\\n\\nIncome taxes are the most significant portion of the US Tax Code and are based on the principle of progressive taxation, where individuals or businesses with higher incomes are subject to higher tax rates. The income tax system is based on a marginal tax rate structure, where different tax rates apply to different levels of income.\\n\\nThe estate and gift tax section of the US Tax Code outlines the rules for taxing transfers of wealth from one person to another, either through gifts or inheritance. This tax is imposed on the transfer of property by an individual during their lifetime or at their death.\\n\\nPayroll taxes are taxes that are paid by both employees and employers to fund Social Security, Medicare'"
      ]
     },
     "execution_count": 7,
     "metadata": {},
     "output_type": "execute_result"
    }
   ],
   "source": [
    "chain1.run('US')"
   ]
  }
 ],
 "metadata": {
  "kernelspec": {
   "display_name": "Python 3",
   "language": "python",
   "name": "python3"
  },
  "language_info": {
   "codemirror_mode": {
    "name": "ipython",
    "version": 3
   },
   "file_extension": ".py",
   "mimetype": "text/x-python",
   "name": "python",
   "nbconvert_exporter": "python",
   "pygments_lexer": "ipython3",
   "version": "3.11.0"
  }
 },
 "nbformat": 4,
 "nbformat_minor": 2
}
